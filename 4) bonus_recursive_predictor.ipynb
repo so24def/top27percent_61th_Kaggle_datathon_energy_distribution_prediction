{
 "cells": [
  {
   "cell_type": "markdown",
   "id": "b5eaffc4",
   "metadata": {},
   "source": [
    "__Instead of predicting the whole month, I tried recursive/walk forward prediction method, and also residual modeling. The function below simply predicts one day(24 hours) using the past data, then adds that predicted day into training data and retrains the model to predict the next day, iteratively.__\n",
    "* __Step size must be divisible with test size. Below, step size 24 is one day, means the function will iterate 744/24 steps which is 31 days.__\n",
    "\n",
    "* __Residuals of X, y are modeled, predicted, and those predictions of residuals are also modeled. That means this function predicts the residuals of residuals at every step. Mean of those predictions added to original prediction to naively fix the bias.__\n",
    "\n",
    "* __Function also outputs the last element of training set and range of test set. This allows user to check every iteration.__\n",
    "\n",
    "* __At the end function returns a serie with predictions__"
   ]
  },
  {
   "cell_type": "code",
   "execution_count": 10,
   "id": "8971a39f",
   "metadata": {
    "scrolled": false
   },
   "outputs": [
    {
     "name": "stdout",
     "output_type": "stream",
     "text": [
      "Step size : 24 --- test size : 744 --- total steps : 31\n",
      "\n",
      "\n",
      "Step : 1 - train last index: 2022-07-31 23:00:00\n",
      "\n",
      "test index range: 2022-08-01 00:00:00 to 2022-08-01 23:00:00\n",
      "\n",
      "Step : 2 - train last index: 2022-08-01 23:00:00\n",
      "\n",
      "test index range: 2022-08-02 00:00:00 to 2022-08-02 23:00:00\n",
      "\n",
      "Step : 3 - train last index: 2022-08-02 23:00:00\n",
      "\n",
      "test index range: 2022-08-03 00:00:00 to 2022-08-03 23:00:00\n",
      "\n",
      "Step : 4 - train last index: 2022-08-03 23:00:00\n",
      "\n",
      "test index range: 2022-08-04 00:00:00 to 2022-08-04 23:00:00\n",
      "\n",
      "Step : 5 - train last index: 2022-08-04 23:00:00\n",
      "\n",
      "test index range: 2022-08-05 00:00:00 to 2022-08-05 23:00:00\n",
      "\n",
      "Step : 6 - train last index: 2022-08-05 23:00:00\n",
      "\n",
      "test index range: 2022-08-06 00:00:00 to 2022-08-06 23:00:00\n",
      "\n",
      "Step : 7 - train last index: 2022-08-06 23:00:00\n",
      "\n",
      "test index range: 2022-08-07 00:00:00 to 2022-08-07 23:00:00\n",
      "\n",
      "Step : 8 - train last index: 2022-08-07 23:00:00\n",
      "\n",
      "test index range: 2022-08-08 00:00:00 to 2022-08-08 23:00:00\n",
      "\n",
      "Step : 9 - train last index: 2022-08-08 23:00:00\n",
      "\n",
      "test index range: 2022-08-09 00:00:00 to 2022-08-09 23:00:00\n",
      "\n",
      "Step : 10 - train last index: 2022-08-09 23:00:00\n",
      "\n",
      "test index range: 2022-08-10 00:00:00 to 2022-08-10 23:00:00\n",
      "\n",
      "Step : 11 - train last index: 2022-08-10 23:00:00\n",
      "\n",
      "test index range: 2022-08-11 00:00:00 to 2022-08-11 23:00:00\n",
      "\n",
      "Step : 12 - train last index: 2022-08-11 23:00:00\n",
      "\n",
      "test index range: 2022-08-12 00:00:00 to 2022-08-12 23:00:00\n",
      "\n",
      "Step : 13 - train last index: 2022-08-12 23:00:00\n",
      "\n",
      "test index range: 2022-08-13 00:00:00 to 2022-08-13 23:00:00\n",
      "\n",
      "Step : 14 - train last index: 2022-08-13 23:00:00\n",
      "\n",
      "test index range: 2022-08-14 00:00:00 to 2022-08-14 23:00:00\n",
      "\n",
      "Step : 15 - train last index: 2022-08-14 23:00:00\n",
      "\n",
      "test index range: 2022-08-15 00:00:00 to 2022-08-15 23:00:00\n",
      "\n",
      "Step : 16 - train last index: 2022-08-15 23:00:00\n",
      "\n",
      "test index range: 2022-08-16 00:00:00 to 2022-08-16 23:00:00\n",
      "\n",
      "Step : 17 - train last index: 2022-08-16 23:00:00\n",
      "\n",
      "test index range: 2022-08-17 00:00:00 to 2022-08-17 23:00:00\n",
      "\n",
      "Step : 18 - train last index: 2022-08-17 23:00:00\n",
      "\n",
      "test index range: 2022-08-18 00:00:00 to 2022-08-18 23:00:00\n",
      "\n",
      "Step : 19 - train last index: 2022-08-18 23:00:00\n",
      "\n",
      "test index range: 2022-08-19 00:00:00 to 2022-08-19 23:00:00\n",
      "\n",
      "Step : 20 - train last index: 2022-08-19 23:00:00\n",
      "\n",
      "test index range: 2022-08-20 00:00:00 to 2022-08-20 23:00:00\n",
      "\n",
      "Step : 21 - train last index: 2022-08-20 23:00:00\n",
      "\n",
      "test index range: 2022-08-21 00:00:00 to 2022-08-21 23:00:00\n",
      "\n",
      "Step : 22 - train last index: 2022-08-21 23:00:00\n",
      "\n",
      "test index range: 2022-08-22 00:00:00 to 2022-08-22 23:00:00\n",
      "\n",
      "Step : 23 - train last index: 2022-08-22 23:00:00\n",
      "\n",
      "test index range: 2022-08-23 00:00:00 to 2022-08-23 23:00:00\n",
      "\n",
      "Step : 24 - train last index: 2022-08-23 23:00:00\n",
      "\n",
      "test index range: 2022-08-24 00:00:00 to 2022-08-24 23:00:00\n",
      "\n",
      "Step : 25 - train last index: 2022-08-24 23:00:00\n",
      "\n",
      "test index range: 2022-08-25 00:00:00 to 2022-08-25 23:00:00\n",
      "\n",
      "Step : 26 - train last index: 2022-08-25 23:00:00\n",
      "\n",
      "test index range: 2022-08-26 00:00:00 to 2022-08-26 23:00:00\n",
      "\n",
      "Step : 27 - train last index: 2022-08-26 23:00:00\n",
      "\n",
      "test index range: 2022-08-27 00:00:00 to 2022-08-27 23:00:00\n",
      "\n",
      "Step : 28 - train last index: 2022-08-27 23:00:00\n",
      "\n",
      "test index range: 2022-08-28 00:00:00 to 2022-08-28 23:00:00\n",
      "\n",
      "Step : 29 - train last index: 2022-08-28 23:00:00\n",
      "\n",
      "test index range: 2022-08-29 00:00:00 to 2022-08-29 23:00:00\n",
      "\n",
      "Step : 30 - train last index: 2022-08-29 23:00:00\n",
      "\n",
      "test index range: 2022-08-30 00:00:00 to 2022-08-30 23:00:00\n",
      "\n",
      "Step : 31 - train last index: 2022-08-30 23:00:00\n",
      "\n",
      "test index range: 2022-08-31 00:00:00 to 2022-08-31 23:00:00\n",
      "\n",
      "\n",
      "\n",
      " !!! DONE !!!\n"
     ]
    }
   ],
   "source": [
    "def walk_forward_predict(X, y, test_size=24*31, steps=24):\n",
    "    \n",
    "    train_size = len(X) - test_size\n",
    "    predictions = pd.DataFrame({'predictions': [0] * test_size})\n",
    "    \n",
    "    print(f'Step size : {steps} --- test size : {test_size} --- total steps : {int(test_size/steps)}\\n\\n')\n",
    "    \n",
    "    for i in range(int(test_size/steps)):\n",
    "\n",
    "        X_train = X[:train_size + (i*steps)]\n",
    "        y_train = y[:train_size + (i*steps)]\n",
    "\n",
    "        X_val = X[train_size + (i*steps):train_size + ((i+1)*steps)]\n",
    "        \n",
    "        print(f'Step : {i+1} - train last index: {X_train.index.max()}\\n')\n",
    "        print(f'test index range: {X_val.index.min()} to {X_val.index.max()}\\n')\n",
    "        \n",
    "        model1 = CatBoostRegressor(**params_izmir_cat,random_state=42,thread_count=-1,silent=True)\n",
    "        model1.fit(X_train, y_train)\n",
    "        y_train_pred = model1.predict(X_train)\n",
    "        res1 = y_train - y_train_pred\n",
    "        \n",
    "        model2 = CatBoostRegressor(**params_izmir_cat,random_state=42,thread_count=-1,silent=True)\n",
    "        model2.fit(X_train, res1)\n",
    "        y_train_pred2 = model2.predict(X_train)\n",
    "        X_res = y_train_pred + y_train_pred2\n",
    "        res2 = y_train - X_res\n",
    "        \n",
    "        model3 = CatBoostRegressor(**params_izmir_cat,random_state=42,thread_count=-1,silent=True)\n",
    "        model3.fit(X_train, res2)\n",
    "        \n",
    "        \n",
    "        y_pred = model1.predict(X_val) + np.mean(model2.predict(X_val)) + np.mean(model3.predict(X_val))\n",
    "\n",
    "        predictions.loc[i*steps:((i+1)*steps)-1, 'predictions'] = y_pred\n",
    "        \n",
    "    print(f'\\n\\n !!! DONE !!!')\n",
    "    \n",
    "    return predictions\n",
    "\n",
    "pred_izmir_cat = walk_forward_predict(X_izmir, y_izmir, test_size=24*31, steps=24)"
   ]
  },
  {
   "cell_type": "code",
   "execution_count": 171,
   "id": "0698b144",
   "metadata": {},
   "outputs": [
    {
     "data": {
      "text/plain": [
       "predictions    0\n",
       "dtype: int64"
      ]
     },
     "execution_count": 171,
     "metadata": {},
     "output_type": "execute_result"
    }
   ],
   "source": [
    "pred_izmir_cat.isna().sum()"
   ]
  },
  {
   "cell_type": "code",
   "execution_count": 172,
   "id": "e74db263",
   "metadata": {},
   "outputs": [
    {
     "data": {
      "text/plain": [
       "predictions    1231.730859\n",
       "dtype: float64"
      ]
     },
     "execution_count": 172,
     "metadata": {},
     "output_type": "execute_result"
    }
   ],
   "source": [
    "pred_izmir_cat.min()"
   ]
  },
  {
   "cell_type": "code",
   "execution_count": 173,
   "id": "c6052eb5",
   "metadata": {},
   "outputs": [
    {
     "data": {
      "text/plain": [
       "predictions    2681.523386\n",
       "dtype: float64"
      ]
     },
     "execution_count": 173,
     "metadata": {},
     "output_type": "execute_result"
    }
   ],
   "source": [
    "pred_izmir_cat.max()"
   ]
  },
  {
   "cell_type": "markdown",
   "id": "6f8248f7",
   "metadata": {},
   "source": [
    "__If we choose the step size same as the set size like below, it becomes a direct prediction instead of a recursive prediction, and process will be finished in one step just like a regular prediction.__"
   ]
  },
  {
   "cell_type": "code",
   "execution_count": 181,
   "id": "200032a0",
   "metadata": {},
   "outputs": [
    {
     "name": "stdout",
     "output_type": "stream",
     "text": [
      "Step size : 744 --- test size : 744 --- total steps : 1\n",
      "\n",
      "\n",
      "Step : 1 - train last index: 2022-07-31 23:00:00\n",
      "\n",
      "test index range: 2022-08-01 00:00:00 to 2022-08-31 23:00:00\n",
      "\n",
      "\n",
      "\n",
      " !!! DONE !!!\n"
     ]
    }
   ],
   "source": [
    "def walk_forward_predict(X, y, test_size=24*31, steps=24):\n",
    "    \n",
    "    train_size = len(X) - test_size\n",
    "    predictions = pd.DataFrame({'predictions': [0] * test_size})\n",
    "    \n",
    "    print(f'Step size : {steps} --- test size : {test_size} --- total steps : {int(test_size/steps)}\\n\\n')\n",
    "    \n",
    "    for i in range(int(test_size/steps)):\n",
    "\n",
    "        X_train = X[:train_size + (i*steps)]\n",
    "        y_train = y[:train_size + (i*steps)]\n",
    "\n",
    "        X_val = X[train_size + (i*steps):train_size + ((i+1)*steps)]\n",
    "        \n",
    "        print(f'Step : {i+1} - train last index: {X_train.index.max()}\\n')\n",
    "        print(f'test index range: {X_val.index.min()} to {X_val.index.max()}\\n')\n",
    "        \n",
    "        model1 = CatBoostRegressor(**params_manisa_cat,random_state=42,thread_count=-1,silent=True)\n",
    "        model1.fit(X_train, y_train)\n",
    "        y_train_pred = model1.predict(X_train)\n",
    "        res1 = y_train - y_train_pred\n",
    "        \n",
    "        model2 = CatBoostRegressor(**params_manisa_cat,random_state=42,thread_count=-1,silent=True)\n",
    "        model2.fit(X_train, res1)\n",
    "        y_train_pred2 = model2.predict(X_train)\n",
    "        X_res = y_train_pred + y_train_pred2\n",
    "        res2 = y_train - X_res\n",
    "        \n",
    "        model3 = CatBoostRegressor(**params_manisa_cat,random_state=42,thread_count=-1,silent=True)\n",
    "        model3.fit(X_train, res2)\n",
    "        \n",
    "        \n",
    "        y_pred = model1.predict(X_val) + np.mean(model2.predict(X_val)) + np.mean(model3.predict(X_val))\n",
    "\n",
    "        predictions.loc[i*steps:((i+1)*steps)-1, 'predictions'] = y_pred\n",
    "    print(f'\\n\\n !!! DONE !!!')\n",
    "    return predictions\n",
    "\n",
    "pred_manisa_cat = walk_forward_predict(X_manisa, y_manisa, test_size=24*31, steps=744)"
   ]
  },
  {
   "cell_type": "code",
   "execution_count": 183,
   "id": "f92a5fc3",
   "metadata": {},
   "outputs": [
    {
     "data": {
      "text/plain": [
       "predictions    0\n",
       "dtype: int64"
      ]
     },
     "execution_count": 183,
     "metadata": {},
     "output_type": "execute_result"
    }
   ],
   "source": [
    "pred_manisa_cat.isna().sum()"
   ]
  },
  {
   "cell_type": "code",
   "execution_count": 184,
   "id": "ed00179f",
   "metadata": {},
   "outputs": [
    {
     "data": {
      "text/plain": [
       "predictions    210.929337\n",
       "dtype: float64"
      ]
     },
     "execution_count": 184,
     "metadata": {},
     "output_type": "execute_result"
    }
   ],
   "source": [
    "pred_manisa_cat.min()"
   ]
  },
  {
   "cell_type": "code",
   "execution_count": 185,
   "id": "6cbbce61",
   "metadata": {},
   "outputs": [
    {
     "data": {
      "text/plain": [
       "predictions    458.867937\n",
       "dtype: float64"
      ]
     },
     "execution_count": 185,
     "metadata": {},
     "output_type": "execute_result"
    }
   ],
   "source": [
    "pred_manisa_cat.max()"
   ]
  },
  {
   "cell_type": "markdown",
   "id": "98e98a40",
   "metadata": {},
   "source": [
    "__We can also perform cross validation with this method__"
   ]
  },
  {
   "cell_type": "code",
   "execution_count": 97,
   "id": "dc1f7ada",
   "metadata": {
    "scrolled": true
   },
   "outputs": [],
   "source": [
    "def walk_forward_cv(X, y, test_size, steps):\n",
    "    \n",
    "    train_size = len(X) - test_size\n",
    "    predictions = pd.DataFrame({'predictions': [0] * test_size})\n",
    "\n",
    "    for i in range(int(test_size/steps)):\n",
    "        X_train = X[:train_size + (i*steps)]\n",
    "        y_train = y[:train_size + (i*steps)]\n",
    "\n",
    "        X_val = X[train_size + (i*steps):train_size + ((i+1)*steps)]\n",
    "        y_val = y[train_size + (i*steps):train_size + ((i+1)*steps)]\n",
    "        \n",
    "        model1 = LGBMRegressor(random_state=42,n_jobs=-1,silent=True,verbose=-1)\n",
    "        model1.fit(X_train, y_train)\n",
    "        y_train_pred = model1.predict(X_train)\n",
    "        res1 = y_train - y_train_pred\n",
    "        \n",
    "        model2 = LGBMRegressor(random_state=42,n_jobs=-1,silent=True,verbose=-1)\n",
    "        model2.fit(X_train, res1)\n",
    "        y_train_pred2 = model2.predict(X_train)\n",
    "        X_res = y_train_pred + y_train_pred2\n",
    "        res2 = y_train - X_res\n",
    "        \n",
    "        model3 = LGBMRegressor(random_state=42,n_jobs=-1,silent=True,verbose=-1)\n",
    "        model3.fit(X_train, res2)\n",
    "        \n",
    "        \n",
    "        y_pred = model1.predict(X_val) + np.mean(model2.predict(X_val)) + np.mean(model3.predict(X_val))\n",
    "\n",
    "        predictions.loc[i*steps:((i+1)*steps)-1, 'predictions'] = y_pred\n",
    "        \n",
    "    return predictions\n",
    "\n",
    "p = walk_forward_cv(X_manisa[:40152], y_manisa[:40152], test_size=24*31, steps=24)"
   ]
  }
 ],
 "metadata": {
  "kernelspec": {
   "display_name": "Python 3 (ipykernel)",
   "language": "python",
   "name": "python3"
  },
  "language_info": {
   "codemirror_mode": {
    "name": "ipython",
    "version": 3
   },
   "file_extension": ".py",
   "mimetype": "text/x-python",
   "name": "python",
   "nbconvert_exporter": "python",
   "pygments_lexer": "ipython3",
   "version": "3.10.6"
  }
 },
 "nbformat": 4,
 "nbformat_minor": 5
}
